{
  "metadata": {
    "kernelspec": {
      "language": "python",
      "display_name": "Python 3",
      "name": "python3"
    },
    "language_info": {
      "name": "python",
      "version": "3.10.13",
      "mimetype": "text/x-python",
      "codemirror_mode": {
        "name": "ipython",
        "version": 3
      },
      "pygments_lexer": "ipython3",
      "nbconvert_exporter": "python",
      "file_extension": ".py"
    },
    "kaggle": {
      "accelerator": "none",
      "dataSources": [
        {
          "sourceId": 7752217,
          "sourceType": "datasetVersion",
          "datasetId": 4532617
        }
      ],
      "dockerImageVersionId": 30664,
      "isInternetEnabled": false,
      "language": "python",
      "sourceType": "notebook",
      "isGpuEnabled": false
    },
    "colab": {
      "name": "MultipleDiseaseClassifier",
      "provenance": [],
      "include_colab_link": true
    }
  },
  "nbformat_minor": 0,
  "nbformat": 4,
  "cells": [
    {
      "cell_type": "markdown",
      "metadata": {
        "id": "view-in-github",
        "colab_type": "text"
      },
      "source": [
        "<a href=\"https://colab.research.google.com/github/nicolascavalli/KaggleProjects/blob/main/MultipleDiseaseClassifier.ipynb\" target=\"_parent\"><img src=\"https://colab.research.google.com/assets/colab-badge.svg\" alt=\"Open In Colab\"/></a>"
      ]
    },
    {
      "source": [
        "\n",
        "# IMPORTANT: RUN THIS CELL IN ORDER TO IMPORT YOUR KAGGLE DATA SOURCES\n",
        "# TO THE CORRECT LOCATION (/kaggle/input) IN YOUR NOTEBOOK,\n",
        "# THEN FEEL FREE TO DELETE THIS CELL.\n",
        "# NOTE: THIS NOTEBOOK ENVIRONMENT DIFFERS FROM KAGGLE'S PYTHON\n",
        "# ENVIRONMENT SO THERE MAY BE MISSING LIBRARIES USED BY YOUR\n",
        "# NOTEBOOK.\n",
        "\n",
        "import os\n",
        "import sys\n",
        "from tempfile import NamedTemporaryFile\n",
        "from urllib.request import urlopen\n",
        "from urllib.parse import unquote, urlparse\n",
        "from urllib.error import HTTPError\n",
        "from zipfile import ZipFile\n",
        "import tarfile\n",
        "import shutil\n",
        "\n",
        "CHUNK_SIZE = 40960\n",
        "DATA_SOURCE_MAPPING = 'multiple-disease-prediction:https%3A%2F%2Fstorage.googleapis.com%2Fkaggle-data-sets%2F4532617%2F7752217%2Fbundle%2Farchive.zip%3FX-Goog-Algorithm%3DGOOG4-RSA-SHA256%26X-Goog-Credential%3Dgcp-kaggle-com%2540kaggle-161607.iam.gserviceaccount.com%252F20240317%252Fauto%252Fstorage%252Fgoog4_request%26X-Goog-Date%3D20240317T140750Z%26X-Goog-Expires%3D259200%26X-Goog-SignedHeaders%3Dhost%26X-Goog-Signature%3D3dcf983b49a41c193ee2c9d17d1db207280a35bcfc5394074e15505b27987870c4872c57746276504cb208b1ffced528e5fe87317622283960ceb1f648136261dd202f1a40d0ef3178e094c56b5b513be62d9776372538acb22be7433779938a63c7dcb06d255ad872ceb45db3c69f13edaf140c32ad1f2449b6148c5a210bb07391e227c0a8db9e422cc8a0c271b34bc06854dd79d5959b359b38bf1e990dc8122015e19a978298fcc7b7dee89b0d1382c07da516cc5e998ebb8fc4cf4a16e5d34a621e5f4f4909e0cd0e7aebab0b980013cac9d08a503d35dc201cbd3c358ebbc1d0a6e1e80944e866ea98bd03283d217ad80c896dcd323828236554f57428'\n",
        "\n",
        "KAGGLE_INPUT_PATH='/kaggle/input'\n",
        "KAGGLE_WORKING_PATH='/kaggle/working'\n",
        "KAGGLE_SYMLINK='kaggle'\n",
        "\n",
        "!umount /kaggle/input/ 2> /dev/null\n",
        "shutil.rmtree('/kaggle/input', ignore_errors=True)\n",
        "os.makedirs(KAGGLE_INPUT_PATH, 0o777, exist_ok=True)\n",
        "os.makedirs(KAGGLE_WORKING_PATH, 0o777, exist_ok=True)\n",
        "\n",
        "try:\n",
        "  os.symlink(KAGGLE_INPUT_PATH, os.path.join(\"..\", 'input'), target_is_directory=True)\n",
        "except FileExistsError:\n",
        "  pass\n",
        "try:\n",
        "  os.symlink(KAGGLE_WORKING_PATH, os.path.join(\"..\", 'working'), target_is_directory=True)\n",
        "except FileExistsError:\n",
        "  pass\n",
        "\n",
        "for data_source_mapping in DATA_SOURCE_MAPPING.split(','):\n",
        "    directory, download_url_encoded = data_source_mapping.split(':')\n",
        "    download_url = unquote(download_url_encoded)\n",
        "    filename = urlparse(download_url).path\n",
        "    destination_path = os.path.join(KAGGLE_INPUT_PATH, directory)\n",
        "    try:\n",
        "        with urlopen(download_url) as fileres, NamedTemporaryFile() as tfile:\n",
        "            total_length = fileres.headers['content-length']\n",
        "            print(f'Downloading {directory}, {total_length} bytes compressed')\n",
        "            dl = 0\n",
        "            data = fileres.read(CHUNK_SIZE)\n",
        "            while len(data) > 0:\n",
        "                dl += len(data)\n",
        "                tfile.write(data)\n",
        "                done = int(50 * dl / int(total_length))\n",
        "                sys.stdout.write(f\"\\r[{'=' * done}{' ' * (50-done)}] {dl} bytes downloaded\")\n",
        "                sys.stdout.flush()\n",
        "                data = fileres.read(CHUNK_SIZE)\n",
        "            if filename.endswith('.zip'):\n",
        "              with ZipFile(tfile) as zfile:\n",
        "                zfile.extractall(destination_path)\n",
        "            else:\n",
        "              with tarfile.open(tfile.name) as tarfile:\n",
        "                tarfile.extractall(destination_path)\n",
        "            print(f'\\nDownloaded and uncompressed: {directory}')\n",
        "    except HTTPError as e:\n",
        "        print(f'Failed to load (likely expired) {download_url} to path {destination_path}')\n",
        "        continue\n",
        "    except OSError as e:\n",
        "        print(f'Failed to load {download_url} to path {destination_path}')\n",
        "        continue\n",
        "\n",
        "print('Data source import complete.')\n"
      ],
      "metadata": {
        "id": "ms_jX9hSvYOH"
      },
      "cell_type": "code",
      "outputs": [],
      "execution_count": null
    },
    {
      "cell_type": "code",
      "source": [
        "# This Python 3 environment comes with many helpful analytics libraries installed\n",
        "# It is defined by the kaggle/python Docker image: https://github.com/kaggle/docker-python\n",
        "# For example, here's several helpful packages to load\n",
        "\n",
        "import numpy as np # linear algebra\n",
        "import pandas as pd # data processing, CSV file I/O (e.g. pd.read_csv)\n",
        "\n",
        "# Input data files are available in the read-only \"../input/\" directory\n",
        "# For example, running this (by clicking run or pressing Shift+Enter) will list all files under the input directory\n",
        "\n",
        "import os\n",
        "for dirname, _, filenames in os.walk('/kaggle/input'):\n",
        "    for filename in filenames:\n",
        "        print(os.path.join(dirname, filename))\n",
        "\n",
        "# You can write up to 20GB to the current directory (/kaggle/working/) that gets preserved as output when you create a version using \"Save & Run All\"\n",
        "# You can also write temporary files to /kaggle/temp/, but they won't be saved outside of the current session"
      ],
      "metadata": {
        "_uuid": "8f2839f25d086af736a60e9eeb907d3b93b6e0e5",
        "_cell_guid": "b1076dfc-b9ad-4769-8c92-a6c4dae69d19",
        "execution": {
          "iopub.status.busy": "2024-03-17T13:57:19.811246Z",
          "iopub.execute_input": "2024-03-17T13:57:19.81168Z",
          "iopub.status.idle": "2024-03-17T13:57:19.823922Z",
          "shell.execute_reply.started": "2024-03-17T13:57:19.811648Z",
          "shell.execute_reply": "2024-03-17T13:57:19.822545Z"
        },
        "trusted": true,
        "id": "gxmQU2jwvYOL"
      },
      "execution_count": null,
      "outputs": []
    },
    {
      "cell_type": "markdown",
      "source": [
        "### First Impressions on Dataset"
      ],
      "metadata": {
        "id": "MhBcz3ZjvYOL"
      }
    },
    {
      "cell_type": "code",
      "source": [
        "df = pd.read_csv('/kaggle/input/multiple-disease-prediction/blood_samples_dataset_test.csv')\n",
        "df.head()"
      ],
      "metadata": {
        "execution": {
          "iopub.status.busy": "2024-03-17T14:00:48.489304Z",
          "iopub.execute_input": "2024-03-17T14:00:48.489763Z",
          "iopub.status.idle": "2024-03-17T14:00:48.524426Z",
          "shell.execute_reply.started": "2024-03-17T14:00:48.489731Z",
          "shell.execute_reply": "2024-03-17T14:00:48.523455Z"
        },
        "trusted": true,
        "id": "S2KOGkMGvYOM"
      },
      "execution_count": null,
      "outputs": []
    },
    {
      "cell_type": "code",
      "source": [
        "#Analysing data types\n",
        "df.info()"
      ],
      "metadata": {
        "execution": {
          "iopub.status.busy": "2024-03-17T13:57:34.998693Z",
          "iopub.execute_input": "2024-03-17T13:57:34.999268Z",
          "iopub.status.idle": "2024-03-17T13:57:35.030449Z",
          "shell.execute_reply.started": "2024-03-17T13:57:34.99923Z",
          "shell.execute_reply": "2024-03-17T13:57:35.029536Z"
        },
        "trusted": true,
        "id": "t8D0Hhv-vYOO"
      },
      "execution_count": null,
      "outputs": []
    },
    {
      "cell_type": "markdown",
      "source": [
        "As you can see, there aren't missing values in dataset and all the atribbutes are float values."
      ],
      "metadata": {
        "id": "d1GKTJDfvYOP"
      }
    },
    {
      "cell_type": "code",
      "source": [
        "#Verifying the shape\n",
        "df.shape"
      ],
      "metadata": {
        "execution": {
          "iopub.status.busy": "2024-03-17T13:57:42.649033Z",
          "iopub.execute_input": "2024-03-17T13:57:42.649439Z",
          "iopub.status.idle": "2024-03-17T13:57:42.656893Z",
          "shell.execute_reply.started": "2024-03-17T13:57:42.649408Z",
          "shell.execute_reply": "2024-03-17T13:57:42.655248Z"
        },
        "trusted": true,
        "id": "bPYxqYkMvYOQ"
      },
      "execution_count": null,
      "outputs": []
    },
    {
      "cell_type": "code",
      "source": [
        "#Verifying if there's duplicate\n",
        "df.drop_duplicates(inplace=True)\n",
        "df.shape"
      ],
      "metadata": {
        "execution": {
          "iopub.status.busy": "2024-03-17T13:57:45.352276Z",
          "iopub.execute_input": "2024-03-17T13:57:45.352784Z",
          "iopub.status.idle": "2024-03-17T13:57:45.366502Z",
          "shell.execute_reply.started": "2024-03-17T13:57:45.352749Z",
          "shell.execute_reply": "2024-03-17T13:57:45.365143Z"
        },
        "trusted": true,
        "id": "xYTgrtBvvYOQ"
      },
      "execution_count": null,
      "outputs": []
    },
    {
      "cell_type": "markdown",
      "source": [
        "There aren't duplicates rows on dataset"
      ],
      "metadata": {
        "id": "secgd2Y5vYOR"
      }
    },
    {
      "cell_type": "markdown",
      "source": [
        "### Exploratory Data Analysis"
      ],
      "metadata": {
        "id": "YS1lSzT6vYOR"
      }
    },
    {
      "cell_type": "code",
      "source": [
        "df.describe()"
      ],
      "metadata": {
        "execution": {
          "iopub.status.busy": "2024-03-17T13:57:52.421995Z",
          "iopub.execute_input": "2024-03-17T13:57:52.423257Z",
          "iopub.status.idle": "2024-03-17T13:57:52.503198Z",
          "shell.execute_reply.started": "2024-03-17T13:57:52.423218Z",
          "shell.execute_reply": "2024-03-17T13:57:52.501867Z"
        },
        "trusted": true,
        "id": "L38r103ovYOS"
      },
      "execution_count": null,
      "outputs": []
    },
    {
      "cell_type": "markdown",
      "source": [
        "Notice that there are some negative values in certain features. we need to normalize the dataset"
      ],
      "metadata": {
        "id": "6zaEVYGqvYOS"
      }
    },
    {
      "cell_type": "code",
      "source": [
        "#Analysing the distribution\n",
        "from sklearn.preprocessing import scale\n",
        "import matplotlib.pyplot as plt\n",
        "\n",
        "df.plot.box()\n",
        "plt.xticks(rotation=60, ha='right');"
      ],
      "metadata": {
        "execution": {
          "iopub.status.busy": "2024-03-17T13:57:59.009158Z",
          "iopub.execute_input": "2024-03-17T13:57:59.009644Z",
          "iopub.status.idle": "2024-03-17T13:57:59.707866Z",
          "shell.execute_reply.started": "2024-03-17T13:57:59.009609Z",
          "shell.execute_reply": "2024-03-17T13:57:59.706824Z"
        },
        "trusted": true,
        "id": "dKPIiE4MvYOS"
      },
      "execution_count": null,
      "outputs": []
    },
    {
      "cell_type": "markdown",
      "source": [
        "It seems that there aren't outliers"
      ],
      "metadata": {
        "id": "_5FiMpeLvYOT"
      }
    },
    {
      "cell_type": "code",
      "source": [
        "#Analysing the distribution of the target feature\n",
        "df['Disease'].value_counts(normalize=True)"
      ],
      "metadata": {
        "execution": {
          "iopub.status.busy": "2024-03-17T13:58:05.396442Z",
          "iopub.execute_input": "2024-03-17T13:58:05.396881Z",
          "iopub.status.idle": "2024-03-17T13:58:05.407666Z",
          "shell.execute_reply.started": "2024-03-17T13:58:05.396849Z",
          "shell.execute_reply": "2024-03-17T13:58:05.406295Z"
        },
        "trusted": true,
        "id": "ix1yqxoPvYOT"
      },
      "execution_count": null,
      "outputs": []
    },
    {
      "cell_type": "code",
      "source": [
        "#Applying LabelEncoder in the target to verify the correlation between features\n",
        "from sklearn.preprocessing import LabelEncoder\n",
        "le = LabelEncoder()\n",
        "df['Disease'] = le.fit_transform(df['Disease'])\n",
        "df.head()"
      ],
      "metadata": {
        "execution": {
          "iopub.status.busy": "2024-03-17T13:58:10.741983Z",
          "iopub.execute_input": "2024-03-17T13:58:10.742812Z",
          "iopub.status.idle": "2024-03-17T13:58:10.773772Z",
          "shell.execute_reply.started": "2024-03-17T13:58:10.742767Z",
          "shell.execute_reply": "2024-03-17T13:58:10.772871Z"
        },
        "trusted": true,
        "id": "9nTXKjCWvYOU"
      },
      "execution_count": null,
      "outputs": []
    },
    {
      "cell_type": "code",
      "source": [
        "#Verifying the correlation\n",
        "import seaborn as sns\n",
        "fig, ax = plt.subplots(figsize=(20, 20))\n",
        "sns.heatmap(df.corr(), annot=True, ax=ax)"
      ],
      "metadata": {
        "execution": {
          "iopub.status.busy": "2024-03-17T13:58:15.524152Z",
          "iopub.execute_input": "2024-03-17T13:58:15.524547Z",
          "iopub.status.idle": "2024-03-17T13:58:18.557187Z",
          "shell.execute_reply.started": "2024-03-17T13:58:15.524516Z",
          "shell.execute_reply": "2024-03-17T13:58:18.55593Z"
        },
        "trusted": true,
        "id": "z-szGjaGvYOU"
      },
      "execution_count": null,
      "outputs": []
    },
    {
      "cell_type": "code",
      "source": [
        "sns.scatterplot(data=df, x='Glucose', y='Troponin', hue='Disease')"
      ],
      "metadata": {
        "execution": {
          "iopub.status.busy": "2024-03-17T13:58:24.188787Z",
          "iopub.execute_input": "2024-03-17T13:58:24.189985Z",
          "iopub.status.idle": "2024-03-17T13:58:24.822504Z",
          "shell.execute_reply.started": "2024-03-17T13:58:24.189938Z",
          "shell.execute_reply": "2024-03-17T13:58:24.821391Z"
        },
        "trusted": true,
        "id": "hMkFNLUYvYOU"
      },
      "execution_count": null,
      "outputs": []
    },
    {
      "cell_type": "code",
      "source": [
        "sns.scatterplot(data=df, x='Mean Corpuscular Volume', y='Cholesterol', hue='Disease')"
      ],
      "metadata": {
        "execution": {
          "iopub.status.busy": "2024-03-17T13:58:28.824686Z",
          "iopub.execute_input": "2024-03-17T13:58:28.825081Z",
          "iopub.status.idle": "2024-03-17T13:58:29.486296Z",
          "shell.execute_reply.started": "2024-03-17T13:58:28.825054Z",
          "shell.execute_reply": "2024-03-17T13:58:29.485223Z"
        },
        "trusted": true,
        "id": "FiWYiYQjvYOU"
      },
      "execution_count": null,
      "outputs": []
    },
    {
      "cell_type": "code",
      "source": [
        "\n"
      ],
      "metadata": {
        "trusted": true,
        "id": "06SHpXdSvYOU"
      },
      "execution_count": null,
      "outputs": []
    },
    {
      "cell_type": "code",
      "source": [
        "#Normalize the dataset and split in atributtes and target\n",
        "\n",
        "from sklearn.preprocessing import MinMaxScaler\n",
        "mms = MinMaxScaler()\n",
        "X = pd.DataFrame(mms.fit_transform(df.drop(columns='Disease')), index=df.drop(columns='Disease').index, columns=df.drop(columns='Disease').columns)\n",
        "X.head()\n"
      ],
      "metadata": {
        "execution": {
          "iopub.status.busy": "2024-03-17T14:01:02.277188Z",
          "iopub.execute_input": "2024-03-17T14:01:02.277627Z",
          "iopub.status.idle": "2024-03-17T14:01:02.316601Z",
          "shell.execute_reply.started": "2024-03-17T14:01:02.277596Z",
          "shell.execute_reply": "2024-03-17T14:01:02.315385Z"
        },
        "trusted": true,
        "id": "dY41HO00vYOU"
      },
      "execution_count": null,
      "outputs": []
    },
    {
      "cell_type": "code",
      "source": [],
      "metadata": {
        "id": "F3XqJTxjvYOU"
      },
      "execution_count": null,
      "outputs": []
    },
    {
      "cell_type": "code",
      "source": [
        "#Splitting dataset in train and test\n",
        "y = df['Disease']\n",
        "from sklearn.model_selection import train_test_split\n",
        "X_train, X_test, y_train, y_test = train_test_split(X, y, test_size = 0.25, random_state=42)"
      ],
      "metadata": {
        "execution": {
          "iopub.status.busy": "2024-03-17T14:01:07.761083Z",
          "iopub.execute_input": "2024-03-17T14:01:07.761595Z",
          "iopub.status.idle": "2024-03-17T14:01:07.775679Z",
          "shell.execute_reply.started": "2024-03-17T14:01:07.761552Z",
          "shell.execute_reply": "2024-03-17T14:01:07.774327Z"
        },
        "trusted": true,
        "id": "qRpWpQv9vYOU"
      },
      "execution_count": null,
      "outputs": []
    },
    {
      "cell_type": "code",
      "source": [
        "y"
      ],
      "metadata": {
        "execution": {
          "iopub.status.busy": "2024-03-17T14:01:09.652814Z",
          "iopub.execute_input": "2024-03-17T14:01:09.653247Z",
          "iopub.status.idle": "2024-03-17T14:01:09.664333Z",
          "shell.execute_reply.started": "2024-03-17T14:01:09.653215Z",
          "shell.execute_reply": "2024-03-17T14:01:09.662645Z"
        },
        "trusted": true,
        "id": "TPN77L4jvYOV"
      },
      "execution_count": null,
      "outputs": []
    },
    {
      "cell_type": "markdown",
      "source": [
        "### Modeling"
      ],
      "metadata": {
        "id": "9NU6g6O2vYOV"
      }
    },
    {
      "cell_type": "markdown",
      "source": [
        "#### Logistic Regression"
      ],
      "metadata": {
        "id": "FDB697C9vYOV"
      }
    },
    {
      "cell_type": "code",
      "source": [
        "#Fitting model to train dataset\n",
        "from sklearn.linear_model import LogisticRegression\n",
        "lr = LogisticRegression(max_iter=500, multi_class='multinomial')\n",
        "lr.fit(X_train, y_train)"
      ],
      "metadata": {
        "execution": {
          "iopub.status.busy": "2024-03-17T14:01:14.42699Z",
          "iopub.execute_input": "2024-03-17T14:01:14.427456Z",
          "iopub.status.idle": "2024-03-17T14:01:14.494569Z",
          "shell.execute_reply.started": "2024-03-17T14:01:14.427421Z",
          "shell.execute_reply": "2024-03-17T14:01:14.493175Z"
        },
        "trusted": true,
        "id": "zm1Lg2UmvYOV"
      },
      "execution_count": null,
      "outputs": []
    },
    {
      "cell_type": "code",
      "source": [
        "#Predicting the test dataset\n",
        "lr_pred = lr.predict(X_test)"
      ],
      "metadata": {
        "execution": {
          "iopub.status.busy": "2024-03-17T14:01:18.642587Z",
          "iopub.execute_input": "2024-03-17T14:01:18.642964Z",
          "iopub.status.idle": "2024-03-17T14:01:18.651797Z",
          "shell.execute_reply.started": "2024-03-17T14:01:18.642936Z",
          "shell.execute_reply": "2024-03-17T14:01:18.650516Z"
        },
        "trusted": true,
        "id": "KtHF-4YZvYOV"
      },
      "execution_count": null,
      "outputs": []
    },
    {
      "cell_type": "code",
      "source": [
        "#Verifying metrics\n",
        "from sklearn.metrics import accuracy_score, balanced_accuracy_score, f1_score, precision_score"
      ],
      "metadata": {
        "execution": {
          "iopub.status.busy": "2024-03-17T14:01:20.536911Z",
          "iopub.execute_input": "2024-03-17T14:01:20.537277Z",
          "iopub.status.idle": "2024-03-17T14:01:20.543348Z",
          "shell.execute_reply.started": "2024-03-17T14:01:20.537251Z",
          "shell.execute_reply": "2024-03-17T14:01:20.542073Z"
        },
        "trusted": true,
        "id": "XX75k498vYOV"
      },
      "execution_count": null,
      "outputs": []
    },
    {
      "cell_type": "code",
      "source": [
        "print(f'Accuracy: {accuracy_score(y_test, lr_pred)}')\n",
        "print(f'Balanced Accuracy: {balanced_accuracy_score(y_test, lr_pred)}')"
      ],
      "metadata": {
        "execution": {
          "iopub.status.busy": "2024-03-17T14:01:26.102143Z",
          "iopub.execute_input": "2024-03-17T14:01:26.102605Z",
          "iopub.status.idle": "2024-03-17T14:01:26.113966Z",
          "shell.execute_reply.started": "2024-03-17T14:01:26.102571Z",
          "shell.execute_reply": "2024-03-17T14:01:26.112552Z"
        },
        "trusted": true,
        "id": "WdtihiiOvYOV"
      },
      "execution_count": null,
      "outputs": []
    },
    {
      "cell_type": "markdown",
      "source": [
        "#### Decision Tree Classifier"
      ],
      "metadata": {
        "id": "gKOpOtShvYOW"
      }
    },
    {
      "cell_type": "code",
      "source": [
        "from sklearn.tree import DecisionTreeClassifier"
      ],
      "metadata": {
        "execution": {
          "iopub.status.busy": "2024-03-17T14:01:30.453992Z",
          "iopub.execute_input": "2024-03-17T14:01:30.454486Z",
          "iopub.status.idle": "2024-03-17T14:01:30.460037Z",
          "shell.execute_reply.started": "2024-03-17T14:01:30.454415Z",
          "shell.execute_reply": "2024-03-17T14:01:30.458618Z"
        },
        "trusted": true,
        "id": "bM9d39yFvYOW"
      },
      "execution_count": null,
      "outputs": []
    },
    {
      "cell_type": "code",
      "source": [
        "dtc = DecisionTreeClassifier()\n",
        "dtc.fit(X_train, y_train)\n",
        "dtc_pred = dtc.predict(X_test)"
      ],
      "metadata": {
        "execution": {
          "iopub.status.busy": "2024-03-17T14:01:37.221486Z",
          "iopub.execute_input": "2024-03-17T14:01:37.221938Z",
          "iopub.status.idle": "2024-03-17T14:01:37.238524Z",
          "shell.execute_reply.started": "2024-03-17T14:01:37.221904Z",
          "shell.execute_reply": "2024-03-17T14:01:37.237307Z"
        },
        "trusted": true,
        "id": "F3tfrle9vYOW"
      },
      "execution_count": null,
      "outputs": []
    },
    {
      "cell_type": "code",
      "source": [
        "print(f'Accuracy: {accuracy_score(y_test, dtc_pred)}')\n",
        "print(f'Balanced Accuracy: {balanced_accuracy_score(y_test, dtc_pred)}')\n",
        "\n"
      ],
      "metadata": {
        "execution": {
          "iopub.status.busy": "2024-03-17T14:01:39.617326Z",
          "iopub.execute_input": "2024-03-17T14:01:39.617749Z",
          "iopub.status.idle": "2024-03-17T14:01:39.62977Z",
          "shell.execute_reply.started": "2024-03-17T14:01:39.617718Z",
          "shell.execute_reply": "2024-03-17T14:01:39.628675Z"
        },
        "trusted": true,
        "id": "jDMgIyKGvYOW"
      },
      "execution_count": null,
      "outputs": []
    },
    {
      "cell_type": "markdown",
      "source": [
        "#### SVM"
      ],
      "metadata": {
        "id": "5FocDz54vYOW"
      }
    },
    {
      "cell_type": "code",
      "source": [
        "from sklearn.svm import SVC"
      ],
      "metadata": {
        "execution": {
          "iopub.status.busy": "2024-03-17T14:01:44.941282Z",
          "iopub.execute_input": "2024-03-17T14:01:44.942686Z",
          "iopub.status.idle": "2024-03-17T14:01:44.947782Z",
          "shell.execute_reply.started": "2024-03-17T14:01:44.942642Z",
          "shell.execute_reply": "2024-03-17T14:01:44.946834Z"
        },
        "trusted": true,
        "id": "mdEfGZcZvYOW"
      },
      "execution_count": null,
      "outputs": []
    },
    {
      "cell_type": "code",
      "source": [
        "svc = SVC()\n",
        "svc.fit(X_train, y_train)\n",
        "svc_pred = svc.predict(X_test)"
      ],
      "metadata": {
        "execution": {
          "iopub.status.busy": "2024-03-17T14:01:49.017902Z",
          "iopub.execute_input": "2024-03-17T14:01:49.018367Z",
          "iopub.status.idle": "2024-03-17T14:01:49.047607Z",
          "shell.execute_reply.started": "2024-03-17T14:01:49.018332Z",
          "shell.execute_reply": "2024-03-17T14:01:49.04614Z"
        },
        "trusted": true,
        "id": "WajWPIrhvYOW"
      },
      "execution_count": null,
      "outputs": []
    },
    {
      "cell_type": "code",
      "source": [
        "print(f'Accuracy: {accuracy_score(y_test, svc_pred)}')\n",
        "print(f'Balanced Accuracy: {balanced_accuracy_score(y_test, svc_pred)}')"
      ],
      "metadata": {
        "execution": {
          "iopub.status.busy": "2024-03-17T14:01:52.069496Z",
          "iopub.execute_input": "2024-03-17T14:01:52.069948Z",
          "iopub.status.idle": "2024-03-17T14:01:52.081222Z",
          "shell.execute_reply.started": "2024-03-17T14:01:52.069915Z",
          "shell.execute_reply": "2024-03-17T14:01:52.079895Z"
        },
        "trusted": true,
        "id": "PHrzA6HavYOW"
      },
      "execution_count": null,
      "outputs": []
    },
    {
      "cell_type": "code",
      "source": [
        "from sklearn.ensemble import RandomForestClassifier"
      ],
      "metadata": {
        "execution": {
          "iopub.status.busy": "2024-03-17T14:01:57.821251Z",
          "iopub.execute_input": "2024-03-17T14:01:57.821666Z",
          "iopub.status.idle": "2024-03-17T14:01:57.826808Z",
          "shell.execute_reply.started": "2024-03-17T14:01:57.821636Z",
          "shell.execute_reply": "2024-03-17T14:01:57.825549Z"
        },
        "trusted": true,
        "id": "8wNceQ9evYOW"
      },
      "execution_count": null,
      "outputs": []
    },
    {
      "cell_type": "code",
      "source": [
        "rfc = RandomForestClassifier()\n",
        "rfc.fit(X_train, y_train)\n",
        "rfc_pred = rfc.predict(X_test)"
      ],
      "metadata": {
        "execution": {
          "iopub.status.busy": "2024-03-17T14:02:00.349044Z",
          "iopub.execute_input": "2024-03-17T14:02:00.350231Z",
          "iopub.status.idle": "2024-03-17T14:02:00.666292Z",
          "shell.execute_reply.started": "2024-03-17T14:02:00.350183Z",
          "shell.execute_reply": "2024-03-17T14:02:00.665128Z"
        },
        "trusted": true,
        "id": "zbZXF7ZYvYOb"
      },
      "execution_count": null,
      "outputs": []
    },
    {
      "cell_type": "code",
      "source": [
        "print(f'Accuracy: {accuracy_score(y_test, rfc_pred)}')\n",
        "print(f'Balanced Accuracy: {balanced_accuracy_score(y_test, rfc_pred)}')"
      ],
      "metadata": {
        "execution": {
          "iopub.status.busy": "2024-03-17T14:02:23.505224Z",
          "iopub.execute_input": "2024-03-17T14:02:23.505706Z",
          "iopub.status.idle": "2024-03-17T14:02:23.517574Z",
          "shell.execute_reply.started": "2024-03-17T14:02:23.505672Z",
          "shell.execute_reply": "2024-03-17T14:02:23.516044Z"
        },
        "trusted": true,
        "id": "T_hebs_jvYOc"
      },
      "execution_count": null,
      "outputs": []
    },
    {
      "cell_type": "markdown",
      "source": [
        "So, after testing several models, decision tree classifier is the one that performed better."
      ],
      "metadata": {
        "id": "9VlM6FG4vYOc"
      }
    }
  ]
}